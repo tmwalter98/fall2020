{
 "metadata": {
  "language_info": {
   "codemirror_mode": {
    "name": "ipython",
    "version": 3
   },
   "file_extension": ".py",
   "mimetype": "text/x-python",
   "name": "python",
   "nbconvert_exporter": "python",
   "pygments_lexer": "ipython3",
   "version": "3.8.5-final"
  },
  "orig_nbformat": 2,
  "kernelspec": {
   "name": "python3",
   "display_name": "Python 3"
  }
 },
 "nbformat": 4,
 "nbformat_minor": 2,
 "cells": [
  {
   "source": [
    "## Part 1 Step 1: Scrape competitor's data \n",
    "\n",
    "import requests\n",
    "from bs4 import BeautifulSoup\n",
    "import pandas as pd\n",
    "\n",
    "from collections import OrderedDict\n",
    "\n",
    "space_weather_url = 'https://www.spaceweatherlive.com/en/solar-activity/top-50-solar-flares'\n",
    "space_weather_response_file = 'spaceweather.html'\n",
    "\n",
    "# if data has already been scraped, load file into bs\n",
    "if os.path.isfile(space_weather_response_file):\n",
    "    with open(space_weather_response_file,'r') as spaceweather_out:\n",
    "        soup = BeautifulSoup(spaceweather_out, 'html')\n",
    "# otherwise, request data from spaceweather.com\n",
    "else:\n",
    "    # prepare header (site has antiscraping tools in use)\n",
    "    browser_headers = {\n",
    "            \"Connection\": \"keep-alive\",\n",
    "            \"Upgrade-Insecure-Requests\": \"1\",\n",
    "            \"User-Agent\": \"Mozilla/5.0 (Windows NT 10.0; Win64; x64) AppleWebKit/537.36 (KHTML, like Gecko) Chrome/83.0.4103.97 Safari/537.36\",\n",
    "            \"Accept\": \"text/html,application/xhtml+xml,application/xml;q=0.9,image/webp,image/apng,*/*;q=0.8,application/signed-exchange;v=b3;q=0.9\",\n",
    "            \"Sec-Fetch-Site\": \"same-origin\",\n",
    "            \"Sec-Fetch-Mode\": \"navigate\",\n",
    "            \"Sec-Fetch-User\": \"?1\",\n",
    "            \"Sec-Fetch-Dest\": \"document\",\n",
    "            \"Referer\": \"https://www.google.com/\",\n",
    "            \"Accept-Encoding\": \"gzip, deflate, br\",\n",
    "            \"Accept-Language\": \"en-US,en;q=0.9\"\n",
    "        }\n",
    "    prepped_header = OrderedDict()\n",
    "\n",
    "    for header,value in browser_headers.items():\n",
    "        prepped_header[header]=value\n",
    "\n",
    "    # prepare and send request\n",
    "    r = requests.Session()\n",
    "    r.headers = prepped_header\n",
    "    response = r.get(space_weather_url)\n",
    "\n",
    "    # get request text and save as file\n",
    "    space_weather_html_doc = response.text\n",
    "    with open('spaceweather.html','w+') as spaceweather_out:\n",
    "        spaceweather_out.writelines(html)\n",
    "\n",
    "    print(response.status_code)\n",
    "\n",
    "    # parse file using bs\n",
    "    soup = BeautifulSoup(space_weather_html_doc, 'html.parser')\n",
    "\n",
    "# Use beautiful soup to print formatted html document\n",
    "# soup.prettify()\n",
    "\n",
    "# find table containing data in webpage, and read it into pandas\n",
    "x = soup.find('table', {'class':'table table-striped table-responsive-md'})\n",
    "solar_flare_df = pd.read_html(x.prettify())[0]\n",
    "\n",
    "# rename columns, display\n",
    "solar_flare_df = solar_flare_df.rename(columns = {'Unnamed: 0':'rank', 'Unnamed: 1':'x_class', 'Unnamed: 2':'date', 'Unnamed: 7':'movie'})\n",
    "solar_flare_df.head(5)\n"
   ],
   "cell_type": "code",
   "metadata": {
    "tags": []
   },
   "execution_count": 29,
   "outputs": [
    {
     "output_type": "execute_result",
     "data": {
      "text/plain": "   rank x_class        date  Region  Start Maximum    End  \\\n0     1    X28+  2003/11/04     486  19:29   19:53  20:06   \n1     2    X20+  2001/04/02    9393  21:32   21:51  22:03   \n2     3  X17.2+  2003/10/28     486  09:51   11:10  11:24   \n3     4    X17+  2005/09/07     808  17:17   17:40  18:03   \n4     5   X14.4  2001/04/15    9415  13:19   13:50  13:55   \n\n                  movie  \n0  Movie  View  archive  \n1  Movie  View  archive  \n2  Movie  View  archive  \n3  Movie  View  archive  \n4  Movie  View  archive  ",
      "text/html": "<div>\n<style scoped>\n    .dataframe tbody tr th:only-of-type {\n        vertical-align: middle;\n    }\n\n    .dataframe tbody tr th {\n        vertical-align: top;\n    }\n\n    .dataframe thead th {\n        text-align: right;\n    }\n</style>\n<table border=\"1\" class=\"dataframe\">\n  <thead>\n    <tr style=\"text-align: right;\">\n      <th></th>\n      <th>rank</th>\n      <th>x_class</th>\n      <th>date</th>\n      <th>Region</th>\n      <th>Start</th>\n      <th>Maximum</th>\n      <th>End</th>\n      <th>movie</th>\n    </tr>\n  </thead>\n  <tbody>\n    <tr>\n      <th>0</th>\n      <td>1</td>\n      <td>X28+</td>\n      <td>2003/11/04</td>\n      <td>486</td>\n      <td>19:29</td>\n      <td>19:53</td>\n      <td>20:06</td>\n      <td>Movie  View  archive</td>\n    </tr>\n    <tr>\n      <th>1</th>\n      <td>2</td>\n      <td>X20+</td>\n      <td>2001/04/02</td>\n      <td>9393</td>\n      <td>21:32</td>\n      <td>21:51</td>\n      <td>22:03</td>\n      <td>Movie  View  archive</td>\n    </tr>\n    <tr>\n      <th>2</th>\n      <td>3</td>\n      <td>X17.2+</td>\n      <td>2003/10/28</td>\n      <td>486</td>\n      <td>09:51</td>\n      <td>11:10</td>\n      <td>11:24</td>\n      <td>Movie  View  archive</td>\n    </tr>\n    <tr>\n      <th>3</th>\n      <td>4</td>\n      <td>X17+</td>\n      <td>2005/09/07</td>\n      <td>808</td>\n      <td>17:17</td>\n      <td>17:40</td>\n      <td>18:03</td>\n      <td>Movie  View  archive</td>\n    </tr>\n    <tr>\n      <th>4</th>\n      <td>5</td>\n      <td>X14.4</td>\n      <td>2001/04/15</td>\n      <td>9415</td>\n      <td>13:19</td>\n      <td>13:50</td>\n      <td>13:55</td>\n      <td>Movie  View  archive</td>\n    </tr>\n  </tbody>\n</table>\n</div>"
     },
     "metadata": {},
     "execution_count": 29
    }
   ]
  },
  {
   "source": [
    "## Part 1 Step 2 Tidy the top 50 solar flare data\n",
    "from datetime import datetime\n",
    "from datetime import timedelta\n",
    "import numpy as np\n",
    "import re\n",
    "\n",
    "# 1. Drop the last column of the table, since we are not going to use it moving forward.\n",
    "solar_flare_df = solar_flare_df.drop(columns=['movie'], axis=1)\n",
    "\n",
    "# 2. Use datetime import to combine the date and each of the three time columns into three datetime columns. You will see why this is useful later on. iterrows() should prove useful here.\n",
    "\n",
    "for index, row in solar_flare_df.iterrows():\n",
    "    date = datetime.strptime(row['date'], '%Y/%m/%d')\n",
    "    \n",
    "    # Replace time_date with datetime\n",
    "    try:\n",
    "        start_time_match = re.search('([\\d]{2}):([\\d]{2})', row['Start'])\n",
    "        start_hour = int(start_time_match.group(1))\n",
    "        start_min = int(start_time_match.group(2))\n",
    "        solar_flare_df.at[index, 'Start'] = date + timedelta(hours=start_hour, minutes=start_min)\n",
    "    except TypeError:\n",
    "        solar_flare_df.at[index, 'Start'] = np.nan\n",
    "\n",
    "    # Replace end_date with datetime\n",
    "    try:\n",
    "        max_time_match = re.search('([\\d]{2}):([\\d]{2})', row['Maximum'])\n",
    "        max_hour = int(max_time_match.group(1))\n",
    "        max_min = int(max_time_match.group(2))\n",
    "        solar_flare_df.at[index, 'Maximum'] = date + timedelta(hours=max_hour, minutes=max_min)\n",
    "    except TypeError:\n",
    "        solar_flare_df.at[index, 'Maximum'] = np.nan\n",
    "    \n",
    "    # Replace cme_date with datetime\n",
    "    try:\n",
    "        end_time_match = re.search('([\\d]{2}):([\\d]{2})', row['End'])\n",
    "        end_hour = int(end_time_match.group(1))\n",
    "        end_min = int(end_time_match.group(2))\n",
    "        solar_flare_df.at[index, 'End'] = date + timedelta(hours=end_hour, minutes=end_min)\n",
    "    except TypeError:\n",
    "        solar_flare_df.at[index, 'End'] = np.nan\n",
    "\n",
    "    if(row['Start'] > row['End']):\n",
    "        solar_flare_df.at[index, date_time] = row['End'] + timedelta(days=1)\n",
    "        if(row['Start'] > row['Maximum']):\n",
    "            solar_flare_df.at[index, date_time] = row['Maximum'] + timedelta(days=1)\n",
    "\n",
    "solar_flare_df = solar_flare_df.rename(columns={\"Start\": \"start_datetime\", \"Maximum\": \"max_datetime\", \"End\": \"end_datetime\", \"Region\": \"region\"})\n",
    "\n",
    "solar_flare_df = solar_flare_df[['rank', 'x_class', 'start_datetime', 'max_datetime', 'end_datetime', 'region']]\n",
    "\n",
    "solar_flare_df.head(5)\n",
    "        \n",
    "\n",
    "        \n",
    "        \n",
    "        #print(col.)\n",
    "# 3. Update the values in the dataframe as you do this. Set_value should prove useful.\n",
    "\n",
    "# 4. Set regions coded as - as missing (NaN). You can use dataframe.replace() here.\n",
    "\n",
    "\n"
   ],
   "cell_type": "code",
   "metadata": {
    "tags": []
   },
   "execution_count": 30,
   "outputs": [
    {
     "output_type": "execute_result",
     "data": {
      "text/plain": "   rank x_class       start_datetime         max_datetime  \\\n0     1    X28+  2003-11-04 19:29:00  2003-11-04 19:53:00   \n1     2    X20+  2001-04-02 21:32:00  2001-04-02 21:51:00   \n2     3  X17.2+  2003-10-28 09:51:00  2003-10-28 11:10:00   \n3     4    X17+  2005-09-07 17:17:00  2005-09-07 17:40:00   \n4     5   X14.4  2001-04-15 13:19:00  2001-04-15 13:50:00   \n\n          end_datetime  region  \n0  2003-11-04 20:06:00     486  \n1  2001-04-02 22:03:00    9393  \n2  2003-10-28 11:24:00     486  \n3  2005-09-07 18:03:00     808  \n4  2001-04-15 13:55:00    9415  ",
      "text/html": "<div>\n<style scoped>\n    .dataframe tbody tr th:only-of-type {\n        vertical-align: middle;\n    }\n\n    .dataframe tbody tr th {\n        vertical-align: top;\n    }\n\n    .dataframe thead th {\n        text-align: right;\n    }\n</style>\n<table border=\"1\" class=\"dataframe\">\n  <thead>\n    <tr style=\"text-align: right;\">\n      <th></th>\n      <th>rank</th>\n      <th>x_class</th>\n      <th>start_datetime</th>\n      <th>max_datetime</th>\n      <th>end_datetime</th>\n      <th>region</th>\n    </tr>\n  </thead>\n  <tbody>\n    <tr>\n      <th>0</th>\n      <td>1</td>\n      <td>X28+</td>\n      <td>2003-11-04 19:29:00</td>\n      <td>2003-11-04 19:53:00</td>\n      <td>2003-11-04 20:06:00</td>\n      <td>486</td>\n    </tr>\n    <tr>\n      <th>1</th>\n      <td>2</td>\n      <td>X20+</td>\n      <td>2001-04-02 21:32:00</td>\n      <td>2001-04-02 21:51:00</td>\n      <td>2001-04-02 22:03:00</td>\n      <td>9393</td>\n    </tr>\n    <tr>\n      <th>2</th>\n      <td>3</td>\n      <td>X17.2+</td>\n      <td>2003-10-28 09:51:00</td>\n      <td>2003-10-28 11:10:00</td>\n      <td>2003-10-28 11:24:00</td>\n      <td>486</td>\n    </tr>\n    <tr>\n      <th>3</th>\n      <td>4</td>\n      <td>X17+</td>\n      <td>2005-09-07 17:17:00</td>\n      <td>2005-09-07 17:40:00</td>\n      <td>2005-09-07 18:03:00</td>\n      <td>808</td>\n    </tr>\n    <tr>\n      <th>4</th>\n      <td>5</td>\n      <td>X14.4</td>\n      <td>2001-04-15 13:19:00</td>\n      <td>2001-04-15 13:50:00</td>\n      <td>2001-04-15 13:55:00</td>\n      <td>9415</td>\n    </tr>\n  </tbody>\n</table>\n</div>"
     },
     "metadata": {},
     "execution_count": 30
    }
   ]
  },
  {
   "cell_type": "code",
   "execution_count": 31,
   "metadata": {
    "tags": []
   },
   "outputs": [
    {
     "output_type": "execute_result",
     "data": {
      "text/plain": "          start_datetime         end_datetime start_frequency end_frequency  \\\n0    1997-04-01 14:00:00  1997-04-01 14:15:00            8000          4000   \n1    1997-04-07 14:30:00  1997-04-07 17:30:00           11000          1000   \n2    1997-05-12 05:15:00  1997-05-14 16:00:00           12000            80   \n3    1997-05-21 20:20:00  1997-05-21 22:00:00            5000           500   \n4    1997-09-23 21:53:00  1997-09-23 22:16:00            6000          2000   \n..                   ...                  ...             ...           ...   \n513  2017-09-04 20:27:00  2017-09-05 04:54:00           14000           210   \n514  2017-09-06 12:05:00  2017-09-07 08:00:00           16000            70   \n515  2017-09-10 16:02:00  2017-09-11 06:50:00           16000           150   \n516  2017-09-12 07:38:00  2017-09-12 07:43:00           16000         13000   \n517  2017-09-17 11:45:00  2017-09-17 12:35:00           16000           900   \n\n    flare_location flare_region importance         cme_datetime  cpa width  \\\n0           S25E16         8026       M1.3  1997-04-01 15:18:00   74    79   \n1           S28E19         8027       C6.8  1997-04-07 14:27:00  NaN   360   \n2           N21W08         8038       C1.3  1997-05-12 05:30:00  NaN   360   \n3           N05W12         8040       M1.3  1997-05-21 21:00:00  263   165   \n4           S29E25         8088       C1.4  1997-09-23 22:02:00  133   155   \n..             ...          ...        ...                  ...  ...   ...   \n513         S10W12        12673       M5.5  2017-09-04 20:12:00  NaN   360   \n514         S08W33        12673       X9.3  2017-09-06 12:24:00  NaN   360   \n515         S09W92          NaN       X8.3  2017-09-10 16:00:00  NaN   360   \n516         N08E48        12680       C3.0  2017-09-12 08:03:00  124    96   \n517        S08E170          NaN        NaN  2017-09-17 12:00:00  NaN   360   \n\n    speed  plot  is_halo  width_lower_bound  \n0     312  PHTX    False              False  \n1     878  PHTX     True              False  \n2     464  PHTX     True              False  \n3     296  PHTX    False              False  \n4     712  PHTX    False              False  \n..    ...   ...      ...                ...  \n513  1418  PHTX     True              False  \n514  1571  PHTX     True              False  \n515  3163  PHTX     True              False  \n516   252  PHTX    False              False  \n517  1385  PHTX     True              False  \n\n[518 rows x 14 columns]",
      "text/html": "<div>\n<style scoped>\n    .dataframe tbody tr th:only-of-type {\n        vertical-align: middle;\n    }\n\n    .dataframe tbody tr th {\n        vertical-align: top;\n    }\n\n    .dataframe thead th {\n        text-align: right;\n    }\n</style>\n<table border=\"1\" class=\"dataframe\">\n  <thead>\n    <tr style=\"text-align: right;\">\n      <th></th>\n      <th>start_datetime</th>\n      <th>end_datetime</th>\n      <th>start_frequency</th>\n      <th>end_frequency</th>\n      <th>flare_location</th>\n      <th>flare_region</th>\n      <th>importance</th>\n      <th>cme_datetime</th>\n      <th>cpa</th>\n      <th>width</th>\n      <th>speed</th>\n      <th>plot</th>\n      <th>is_halo</th>\n      <th>width_lower_bound</th>\n    </tr>\n  </thead>\n  <tbody>\n    <tr>\n      <th>0</th>\n      <td>1997-04-01 14:00:00</td>\n      <td>1997-04-01 14:15:00</td>\n      <td>8000</td>\n      <td>4000</td>\n      <td>S25E16</td>\n      <td>8026</td>\n      <td>M1.3</td>\n      <td>1997-04-01 15:18:00</td>\n      <td>74</td>\n      <td>79</td>\n      <td>312</td>\n      <td>PHTX</td>\n      <td>False</td>\n      <td>False</td>\n    </tr>\n    <tr>\n      <th>1</th>\n      <td>1997-04-07 14:30:00</td>\n      <td>1997-04-07 17:30:00</td>\n      <td>11000</td>\n      <td>1000</td>\n      <td>S28E19</td>\n      <td>8027</td>\n      <td>C6.8</td>\n      <td>1997-04-07 14:27:00</td>\n      <td>NaN</td>\n      <td>360</td>\n      <td>878</td>\n      <td>PHTX</td>\n      <td>True</td>\n      <td>False</td>\n    </tr>\n    <tr>\n      <th>2</th>\n      <td>1997-05-12 05:15:00</td>\n      <td>1997-05-14 16:00:00</td>\n      <td>12000</td>\n      <td>80</td>\n      <td>N21W08</td>\n      <td>8038</td>\n      <td>C1.3</td>\n      <td>1997-05-12 05:30:00</td>\n      <td>NaN</td>\n      <td>360</td>\n      <td>464</td>\n      <td>PHTX</td>\n      <td>True</td>\n      <td>False</td>\n    </tr>\n    <tr>\n      <th>3</th>\n      <td>1997-05-21 20:20:00</td>\n      <td>1997-05-21 22:00:00</td>\n      <td>5000</td>\n      <td>500</td>\n      <td>N05W12</td>\n      <td>8040</td>\n      <td>M1.3</td>\n      <td>1997-05-21 21:00:00</td>\n      <td>263</td>\n      <td>165</td>\n      <td>296</td>\n      <td>PHTX</td>\n      <td>False</td>\n      <td>False</td>\n    </tr>\n    <tr>\n      <th>4</th>\n      <td>1997-09-23 21:53:00</td>\n      <td>1997-09-23 22:16:00</td>\n      <td>6000</td>\n      <td>2000</td>\n      <td>S29E25</td>\n      <td>8088</td>\n      <td>C1.4</td>\n      <td>1997-09-23 22:02:00</td>\n      <td>133</td>\n      <td>155</td>\n      <td>712</td>\n      <td>PHTX</td>\n      <td>False</td>\n      <td>False</td>\n    </tr>\n    <tr>\n      <th>...</th>\n      <td>...</td>\n      <td>...</td>\n      <td>...</td>\n      <td>...</td>\n      <td>...</td>\n      <td>...</td>\n      <td>...</td>\n      <td>...</td>\n      <td>...</td>\n      <td>...</td>\n      <td>...</td>\n      <td>...</td>\n      <td>...</td>\n      <td>...</td>\n    </tr>\n    <tr>\n      <th>513</th>\n      <td>2017-09-04 20:27:00</td>\n      <td>2017-09-05 04:54:00</td>\n      <td>14000</td>\n      <td>210</td>\n      <td>S10W12</td>\n      <td>12673</td>\n      <td>M5.5</td>\n      <td>2017-09-04 20:12:00</td>\n      <td>NaN</td>\n      <td>360</td>\n      <td>1418</td>\n      <td>PHTX</td>\n      <td>True</td>\n      <td>False</td>\n    </tr>\n    <tr>\n      <th>514</th>\n      <td>2017-09-06 12:05:00</td>\n      <td>2017-09-07 08:00:00</td>\n      <td>16000</td>\n      <td>70</td>\n      <td>S08W33</td>\n      <td>12673</td>\n      <td>X9.3</td>\n      <td>2017-09-06 12:24:00</td>\n      <td>NaN</td>\n      <td>360</td>\n      <td>1571</td>\n      <td>PHTX</td>\n      <td>True</td>\n      <td>False</td>\n    </tr>\n    <tr>\n      <th>515</th>\n      <td>2017-09-10 16:02:00</td>\n      <td>2017-09-11 06:50:00</td>\n      <td>16000</td>\n      <td>150</td>\n      <td>S09W92</td>\n      <td>NaN</td>\n      <td>X8.3</td>\n      <td>2017-09-10 16:00:00</td>\n      <td>NaN</td>\n      <td>360</td>\n      <td>3163</td>\n      <td>PHTX</td>\n      <td>True</td>\n      <td>False</td>\n    </tr>\n    <tr>\n      <th>516</th>\n      <td>2017-09-12 07:38:00</td>\n      <td>2017-09-12 07:43:00</td>\n      <td>16000</td>\n      <td>13000</td>\n      <td>N08E48</td>\n      <td>12680</td>\n      <td>C3.0</td>\n      <td>2017-09-12 08:03:00</td>\n      <td>124</td>\n      <td>96</td>\n      <td>252</td>\n      <td>PHTX</td>\n      <td>False</td>\n      <td>False</td>\n    </tr>\n    <tr>\n      <th>517</th>\n      <td>2017-09-17 11:45:00</td>\n      <td>2017-09-17 12:35:00</td>\n      <td>16000</td>\n      <td>900</td>\n      <td>S08E170</td>\n      <td>NaN</td>\n      <td>NaN</td>\n      <td>2017-09-17 12:00:00</td>\n      <td>NaN</td>\n      <td>360</td>\n      <td>1385</td>\n      <td>PHTX</td>\n      <td>True</td>\n      <td>False</td>\n    </tr>\n  </tbody>\n</table>\n<p>518 rows × 14 columns</p>\n</div>"
     },
     "metadata": {},
     "execution_count": 31
    }
   ],
   "source": [
    "import re\n",
    "import numpy as np\n",
    "# Part 1 Step 3: Scrape the NASA data\n",
    "nasa_url = 'https://cdaw.gsfc.nasa.gov/CME_list/radio/waves_type2.html'\n",
    "\n",
    " # prepare header (site has antiscraping tools in use)\n",
    "browser_headers = {\n",
    "        \"Connection\": \"keep-alive\",\n",
    "        \"Upgrade-Insecure-Requests\": \"1\",\n",
    "        \"User-Agent\": \"Mozilla/5.0 (Windows NT 10.0; Win64; x64) AppleWebKit/537.36 (KHTML, like Gecko) Chrome/83.0.4103.97 Safari/537.36\",\n",
    "        \"Accept\": \"text/html,application/xhtml+xml,application/xml;q=0.9,image/webp,image/apng,*/*;q=0.8,application/signed-exchange;v=b3;q=0.9\",\n",
    "        \"Sec-Fetch-Site\": \"same-origin\",\n",
    "        \"Sec-Fetch-Mode\": \"navigate\",\n",
    "        \"Sec-Fetch-User\": \"?1\",\n",
    "        \"Sec-Fetch-Dest\": \"document\",\n",
    "        \"Referer\": \"https://www.google.com/\",\n",
    "        \"Accept-Encoding\": \"gzip, deflate, br\",\n",
    "        \"Accept-Language\": \"en-US,en;q=0.9\"\n",
    "    }\n",
    "prepped_header = OrderedDict()\n",
    "\n",
    "for header,value in browser_headers.items():\n",
    "    prepped_header[header]=value\n",
    "\n",
    "# prepare and send request\n",
    "r = requests.Session()\n",
    "r.headers = prepped_header\n",
    "response = r.get(nasa_url)\n",
    "\n",
    "soup = BeautifulSoup(response.text, 'html.parser')\n",
    "data_line = re.compile('[\\d]{4}/[\\d]{2}/[\\d]{2}')\n",
    "\n",
    "pre_lines = str(soup.find('pre')).splitlines()\n",
    "\n",
    "\n",
    "lines_wo_href = []\n",
    "for line in pre_lines:\n",
    "    if re.match(data_line, line):\n",
    "        lines_wo_href.append(re.sub('([<][^>]*[>])', '', line))\n",
    "\n",
    "regex_grouped_lines = []\n",
    "r = re.compile('([\\d]{4}/[\\d]{2}/[\\d]{2})[\\s]+([\\d]{2}\\:[\\d]{2})[\\s]+(\\d{2}/\\d{2})[\\s]+([\\d]{2}\\:[\\d]{2})[\\s]+([\\d\\?]+)[\\s]+([\\d\\?]+)[\\s]+([\\w\\-\\?]+)[\\s]+([\\w\\-\\?]+)[\\s]+([\\w\\-\\.]+)[\\s]+([\\d\\-]{2}/[\\d\\-]{2})[\\s]+([\\d\\-]{2}\\:[\\d\\-]{2})[\\s]+([\\w\\-]+)[\\s]+([\\w\\-\\&\\;\\>]+)[\\s]+([\\w\\-]+)[\\s]+([\\w]+)')\n",
    "\n",
    "arr = []\n",
    "for line in lines_wo_href:\n",
    "    match = re.match(r, line)\n",
    "    line_data = []\n",
    "    for x in range(1,16):\n",
    "        line_data.append(match.group(x))\n",
    "    arr.append(line_data)\n",
    "\n",
    "column_names = ['start_date', 'start_time', 'end_date', 'end_time', 'start_frequency', 'end_frequency', 'flare_location', 'flare_region', 'importance', 'cme_date', 'cme_time', 'cpa', 'width', 'speed', 'plot']\n",
    "df = pd.DataFrame(data=np.array(arr), columns=column_names)\n",
    "\n",
    "# Replace missing values with NaN\n",
    "missing_vals = '(--/--|[\\?\\-]+|--\\:--|FILA|DSF|BACK|Back|DIM|EP)'\n",
    "df.replace(regex=True, to_replace=missing_vals, value=np.nan, inplace=True)\n",
    "\n",
    "# Tidy Table, change dates and times\n",
    "for index, row in df.iterrows():\n",
    "    # Replace time_date with datetime\n",
    "    try:\n",
    "        start_date = datetime.strptime(row['start_date'], '%Y/%m/%d')\n",
    "        start_time_match = re.search('([\\d]{2}):([\\d]{2})', row['start_time'])\n",
    "        start_hour = int(start_time_match.group(1))\n",
    "        start_min = int(start_time_match.group(2))\n",
    "        row['start_date'] = start_date + timedelta(hours=start_hour, minutes=start_min)\n",
    "    except TypeError:\n",
    "        row['start_date'] = np.nan\n",
    "\n",
    "    # Replace end_date with datetime\n",
    "    try:\n",
    "        end_date = datetime.strptime(row['end_date'], '%m/%d').replace(year=start_date.year)\n",
    "        end_time_match = re.search('([\\d]{2}):([\\d]{2})', row['end_time'])\n",
    "        end_hour = int(end_time_match.group(1))\n",
    "        end_min = int(end_time_match.group(2))\n",
    "        row['end_date'] = end_date + timedelta(hours=end_hour, minutes=end_min)\n",
    "    except TypeError:\n",
    "        row['end_date'] = np.nan\n",
    "    \n",
    "\n",
    "    # Replace cme_date with datetime\n",
    "    try:\n",
    "        cme_date = datetime.strptime(row['cme_date'], '%m/%d').replace(year=start_date.year)\n",
    "        cme_time_match = re.search('([\\d]{2}):([\\d]{2})', row['cme_time'])\n",
    "        cme_hour = int(cme_time_match.group(1))\n",
    "        cme_min = int(cme_time_match.group(2))\n",
    "        row['cme_date'] = cme_date + timedelta(hours=cme_hour, minutes=cme_min)\n",
    "    except TypeError:\n",
    "        row['cme_date'] = np.nan\n",
    "\n",
    "\n",
    "is_halo = np.full(len(df.index), dtype=bool, fill_value=True)\n",
    "width_lower_bound = np.full(len(df.index), dtype=bool, fill_value=False)\n",
    "for index, row in df.iterrows():\n",
    "    if str(row['cpa']).lower() != 'halo':\n",
    "        np.put(is_halo,[index],[False])\n",
    "    else:\n",
    "        row['cpa'] = np.nan\n",
    "    \n",
    "    width = str(row['width'])\n",
    "    if '>' in width:\n",
    "        np.put(width_lower_bound,[index],[True])\n",
    "        row['width'] = width.replace('>', '')\n",
    "\n",
    "df.drop(columns=['start_time', 'end_time', 'cme_time'], axis=1, inplace=True)\n",
    "df.rename(columns={\"start_date\": \"start_datetime\", \"end_date\": \"end_datetime\", \"cme_date\": \"cme_datetime\"}, inplace=True)\n",
    "df.insert(column='is_halo', value=is_halo, loc=12)\n",
    "df.insert(column='width_lower_bound', value=width_lower_bound, loc=13)\n",
    "\n",
    "df\n",
    "#, 'is_halo', 'width_lower_bound'\n"
   ]
  },
  {
   "cell_type": "code",
   "execution_count": 32,
   "metadata": {
    "tags": []
   },
   "outputs": [
    {
     "output_type": "execute_result",
     "data": {
      "text/plain": "     magnitude\n240   280000.0\n117   200000.0\n233   170000.0\n126   140000.0\n234   100000.0\n8      94000.0\n514    93000.0\n328    90000.0\n515    83000.0\n237    83000.0\n288    71000.0\n359    69000.0\n331    65000.0\n317    62000.0\n82     57000.0\n121    56000.0\n375    54000.0\n135    53000.0\n443    49000.0\n193    48000.0\n104    40000.0\n239    39000.0\n286    38000.0\n222    36000.0\n332    34000.0\n160    34000.0\n192    33000.0\n404    32000.0\n201    31000.0\n403    28000.0\n19     27000.0\n238    27000.0\n487    27000.0\n142    26000.0\n284    26000.0\n9      26000.0\n276    25000.0\n73     23000.0\n99     23000.0\n123    23000.0\n345    22000.0\n361    21000.0\n318    21000.0\n7      21000.0\n420    21000.0\n98     20000.0\n274    20000.0\n285    20000.0\n125    20000.0\n102    19000.0",
      "text/html": "<div>\n<style scoped>\n    .dataframe tbody tr th:only-of-type {\n        vertical-align: middle;\n    }\n\n    .dataframe tbody tr th {\n        vertical-align: top;\n    }\n\n    .dataframe thead th {\n        text-align: right;\n    }\n</style>\n<table border=\"1\" class=\"dataframe\">\n  <thead>\n    <tr style=\"text-align: right;\">\n      <th></th>\n      <th>magnitude</th>\n    </tr>\n  </thead>\n  <tbody>\n    <tr>\n      <th>240</th>\n      <td>280000.0</td>\n    </tr>\n    <tr>\n      <th>117</th>\n      <td>200000.0</td>\n    </tr>\n    <tr>\n      <th>233</th>\n      <td>170000.0</td>\n    </tr>\n    <tr>\n      <th>126</th>\n      <td>140000.0</td>\n    </tr>\n    <tr>\n      <th>234</th>\n      <td>100000.0</td>\n    </tr>\n    <tr>\n      <th>8</th>\n      <td>94000.0</td>\n    </tr>\n    <tr>\n      <th>514</th>\n      <td>93000.0</td>\n    </tr>\n    <tr>\n      <th>328</th>\n      <td>90000.0</td>\n    </tr>\n    <tr>\n      <th>515</th>\n      <td>83000.0</td>\n    </tr>\n    <tr>\n      <th>237</th>\n      <td>83000.0</td>\n    </tr>\n    <tr>\n      <th>288</th>\n      <td>71000.0</td>\n    </tr>\n    <tr>\n      <th>359</th>\n      <td>69000.0</td>\n    </tr>\n    <tr>\n      <th>331</th>\n      <td>65000.0</td>\n    </tr>\n    <tr>\n      <th>317</th>\n      <td>62000.0</td>\n    </tr>\n    <tr>\n      <th>82</th>\n      <td>57000.0</td>\n    </tr>\n    <tr>\n      <th>121</th>\n      <td>56000.0</td>\n    </tr>\n    <tr>\n      <th>375</th>\n      <td>54000.0</td>\n    </tr>\n    <tr>\n      <th>135</th>\n      <td>53000.0</td>\n    </tr>\n    <tr>\n      <th>443</th>\n      <td>49000.0</td>\n    </tr>\n    <tr>\n      <th>193</th>\n      <td>48000.0</td>\n    </tr>\n    <tr>\n      <th>104</th>\n      <td>40000.0</td>\n    </tr>\n    <tr>\n      <th>239</th>\n      <td>39000.0</td>\n    </tr>\n    <tr>\n      <th>286</th>\n      <td>38000.0</td>\n    </tr>\n    <tr>\n      <th>222</th>\n      <td>36000.0</td>\n    </tr>\n    <tr>\n      <th>332</th>\n      <td>34000.0</td>\n    </tr>\n    <tr>\n      <th>160</th>\n      <td>34000.0</td>\n    </tr>\n    <tr>\n      <th>192</th>\n      <td>33000.0</td>\n    </tr>\n    <tr>\n      <th>404</th>\n      <td>32000.0</td>\n    </tr>\n    <tr>\n      <th>201</th>\n      <td>31000.0</td>\n    </tr>\n    <tr>\n      <th>403</th>\n      <td>28000.0</td>\n    </tr>\n    <tr>\n      <th>19</th>\n      <td>27000.0</td>\n    </tr>\n    <tr>\n      <th>238</th>\n      <td>27000.0</td>\n    </tr>\n    <tr>\n      <th>487</th>\n      <td>27000.0</td>\n    </tr>\n    <tr>\n      <th>142</th>\n      <td>26000.0</td>\n    </tr>\n    <tr>\n      <th>284</th>\n      <td>26000.0</td>\n    </tr>\n    <tr>\n      <th>9</th>\n      <td>26000.0</td>\n    </tr>\n    <tr>\n      <th>276</th>\n      <td>25000.0</td>\n    </tr>\n    <tr>\n      <th>73</th>\n      <td>23000.0</td>\n    </tr>\n    <tr>\n      <th>99</th>\n      <td>23000.0</td>\n    </tr>\n    <tr>\n      <th>123</th>\n      <td>23000.0</td>\n    </tr>\n    <tr>\n      <th>345</th>\n      <td>22000.0</td>\n    </tr>\n    <tr>\n      <th>361</th>\n      <td>21000.0</td>\n    </tr>\n    <tr>\n      <th>318</th>\n      <td>21000.0</td>\n    </tr>\n    <tr>\n      <th>7</th>\n      <td>21000.0</td>\n    </tr>\n    <tr>\n      <th>420</th>\n      <td>21000.0</td>\n    </tr>\n    <tr>\n      <th>98</th>\n      <td>20000.0</td>\n    </tr>\n    <tr>\n      <th>274</th>\n      <td>20000.0</td>\n    </tr>\n    <tr>\n      <th>285</th>\n      <td>20000.0</td>\n    </tr>\n    <tr>\n      <th>125</th>\n      <td>20000.0</td>\n    </tr>\n    <tr>\n      <th>102</th>\n      <td>19000.0</td>\n    </tr>\n  </tbody>\n</table>\n</div>"
     },
     "metadata": {},
     "execution_count": 32
    }
   ],
   "source": [
    "## Step 2, Question 1\n",
    "\n",
    "magnitudes = np.full(len(df.index), dtype=float, fill_value=0)\n",
    "\n",
    "extractor = re.compile('([BCMX])([\\d\\.]+)', re.IGNORECASE)\n",
    "class_to_mag = {'A':1, 'B':10, 'C':100, 'M':1000, 'X':10000}\n",
    "for index, row in df.iterrows():\n",
    "    try:\n",
    "        importance = row['importance']\n",
    "        importance_g = extractor.match(importance)\n",
    "        cl = class_to_mag[importance_g.group(1)]\n",
    "        magnitude = float(importance_g.group(2))\n",
    "\n",
    "        abs_mag = cl * magnitude\n",
    "        np.put(magnitudes, [index], [abs_mag])\n",
    "\n",
    "    except TypeError:\n",
    "        np.put(magnitudes, [index], [np.nan])\n",
    "\n",
    "ranking = pd.DataFrame({'magnitude':magnitudes})\n",
    "ranking.sort_values(by='magnitude', axis=0, ascending=False, inplace=True, kind='quicksort', na_position='last', ignore_index=False)\n",
    "\n",
    "ranking.head(50)\n",
    "\n",
    "# Through visual inspection, it seems that my rankings of the top solarflares from the NASA data are similar to those posted by SpaceWeatherLive; although, they are not the exact same.  It seems that SpaceWeatherLive takes more into account than the Soft X-ray flare importance."
   ]
  },
  {
   "cell_type": "code",
   "execution_count": 33,
   "metadata": {
    "tags": []
   },
   "outputs": [
    {
     "output_type": "execute_result",
     "data": {
      "text/plain": "          start_datetime         end_datetime start_frequency end_frequency  \\\n0    1997-04-01 14:00:00  1997-04-01 14:15:00            8000          4000   \n1    1997-04-07 14:30:00  1997-04-07 17:30:00           11000          1000   \n2    1997-05-12 05:15:00  1997-05-14 16:00:00           12000            80   \n3    1997-05-21 20:20:00  1997-05-21 22:00:00            5000           500   \n4    1997-09-23 21:53:00  1997-09-23 22:16:00            6000          2000   \n..                   ...                  ...             ...           ...   \n513  2017-09-04 20:27:00  2017-09-05 04:54:00           14000           210   \n514  2017-09-06 12:05:00  2017-09-07 08:00:00           16000            70   \n515  2017-09-10 16:02:00  2017-09-11 06:50:00           16000           150   \n516  2017-09-12 07:38:00  2017-09-12 07:43:00           16000         13000   \n517  2017-09-17 11:45:00  2017-09-17 12:35:00           16000           900   \n\n    flare_location flare_region importance         cme_datetime  cpa width  \\\n0           S25E16         8026       M1.3  1997-04-01 15:18:00   74    79   \n1           S28E19         8027       C6.8  1997-04-07 14:27:00  NaN   360   \n2           N21W08         8038       C1.3  1997-05-12 05:30:00  NaN   360   \n3           N05W12         8040       M1.3  1997-05-21 21:00:00  263   165   \n4           S29E25         8088       C1.4  1997-09-23 22:02:00  133   155   \n..             ...          ...        ...                  ...  ...   ...   \n513         S10W12        12673       M5.5  2017-09-04 20:12:00  NaN   360   \n514         S08W33        12673       X9.3  2017-09-06 12:24:00  NaN   360   \n515         S09W92          NaN       X8.3  2017-09-10 16:00:00  NaN   360   \n516         N08E48        12680       C3.0  2017-09-12 08:03:00  124    96   \n517        S08E170          NaN        NaN  2017-09-17 12:00:00  NaN   360   \n\n    speed  plot  is_halo  width_lower_bound  space_weather_ranking  \n0     312  PHTX    False              False                      0  \n1     878  PHTX     True              False                      1  \n2     464  PHTX     True              False                      1  \n3     296  PHTX    False              False                      1  \n4     712  PHTX    False              False                      1  \n..    ...   ...      ...                ...                    ...  \n513  1418  PHTX     True              False                      0  \n514  1571  PHTX     True              False                      0  \n515  3163  PHTX     True              False                      0  \n516   252  PHTX    False              False                      0  \n517  1385  PHTX     True              False                      0  \n\n[518 rows x 15 columns]",
      "text/html": "<div>\n<style scoped>\n    .dataframe tbody tr th:only-of-type {\n        vertical-align: middle;\n    }\n\n    .dataframe tbody tr th {\n        vertical-align: top;\n    }\n\n    .dataframe thead th {\n        text-align: right;\n    }\n</style>\n<table border=\"1\" class=\"dataframe\">\n  <thead>\n    <tr style=\"text-align: right;\">\n      <th></th>\n      <th>start_datetime</th>\n      <th>end_datetime</th>\n      <th>start_frequency</th>\n      <th>end_frequency</th>\n      <th>flare_location</th>\n      <th>flare_region</th>\n      <th>importance</th>\n      <th>cme_datetime</th>\n      <th>cpa</th>\n      <th>width</th>\n      <th>speed</th>\n      <th>plot</th>\n      <th>is_halo</th>\n      <th>width_lower_bound</th>\n      <th>space_weather_ranking</th>\n    </tr>\n  </thead>\n  <tbody>\n    <tr>\n      <th>0</th>\n      <td>1997-04-01 14:00:00</td>\n      <td>1997-04-01 14:15:00</td>\n      <td>8000</td>\n      <td>4000</td>\n      <td>S25E16</td>\n      <td>8026</td>\n      <td>M1.3</td>\n      <td>1997-04-01 15:18:00</td>\n      <td>74</td>\n      <td>79</td>\n      <td>312</td>\n      <td>PHTX</td>\n      <td>False</td>\n      <td>False</td>\n      <td>0</td>\n    </tr>\n    <tr>\n      <th>1</th>\n      <td>1997-04-07 14:30:00</td>\n      <td>1997-04-07 17:30:00</td>\n      <td>11000</td>\n      <td>1000</td>\n      <td>S28E19</td>\n      <td>8027</td>\n      <td>C6.8</td>\n      <td>1997-04-07 14:27:00</td>\n      <td>NaN</td>\n      <td>360</td>\n      <td>878</td>\n      <td>PHTX</td>\n      <td>True</td>\n      <td>False</td>\n      <td>1</td>\n    </tr>\n    <tr>\n      <th>2</th>\n      <td>1997-05-12 05:15:00</td>\n      <td>1997-05-14 16:00:00</td>\n      <td>12000</td>\n      <td>80</td>\n      <td>N21W08</td>\n      <td>8038</td>\n      <td>C1.3</td>\n      <td>1997-05-12 05:30:00</td>\n      <td>NaN</td>\n      <td>360</td>\n      <td>464</td>\n      <td>PHTX</td>\n      <td>True</td>\n      <td>False</td>\n      <td>1</td>\n    </tr>\n    <tr>\n      <th>3</th>\n      <td>1997-05-21 20:20:00</td>\n      <td>1997-05-21 22:00:00</td>\n      <td>5000</td>\n      <td>500</td>\n      <td>N05W12</td>\n      <td>8040</td>\n      <td>M1.3</td>\n      <td>1997-05-21 21:00:00</td>\n      <td>263</td>\n      <td>165</td>\n      <td>296</td>\n      <td>PHTX</td>\n      <td>False</td>\n      <td>False</td>\n      <td>1</td>\n    </tr>\n    <tr>\n      <th>4</th>\n      <td>1997-09-23 21:53:00</td>\n      <td>1997-09-23 22:16:00</td>\n      <td>6000</td>\n      <td>2000</td>\n      <td>S29E25</td>\n      <td>8088</td>\n      <td>C1.4</td>\n      <td>1997-09-23 22:02:00</td>\n      <td>133</td>\n      <td>155</td>\n      <td>712</td>\n      <td>PHTX</td>\n      <td>False</td>\n      <td>False</td>\n      <td>1</td>\n    </tr>\n    <tr>\n      <th>...</th>\n      <td>...</td>\n      <td>...</td>\n      <td>...</td>\n      <td>...</td>\n      <td>...</td>\n      <td>...</td>\n      <td>...</td>\n      <td>...</td>\n      <td>...</td>\n      <td>...</td>\n      <td>...</td>\n      <td>...</td>\n      <td>...</td>\n      <td>...</td>\n      <td>...</td>\n    </tr>\n    <tr>\n      <th>513</th>\n      <td>2017-09-04 20:27:00</td>\n      <td>2017-09-05 04:54:00</td>\n      <td>14000</td>\n      <td>210</td>\n      <td>S10W12</td>\n      <td>12673</td>\n      <td>M5.5</td>\n      <td>2017-09-04 20:12:00</td>\n      <td>NaN</td>\n      <td>360</td>\n      <td>1418</td>\n      <td>PHTX</td>\n      <td>True</td>\n      <td>False</td>\n      <td>0</td>\n    </tr>\n    <tr>\n      <th>514</th>\n      <td>2017-09-06 12:05:00</td>\n      <td>2017-09-07 08:00:00</td>\n      <td>16000</td>\n      <td>70</td>\n      <td>S08W33</td>\n      <td>12673</td>\n      <td>X9.3</td>\n      <td>2017-09-06 12:24:00</td>\n      <td>NaN</td>\n      <td>360</td>\n      <td>1571</td>\n      <td>PHTX</td>\n      <td>True</td>\n      <td>False</td>\n      <td>0</td>\n    </tr>\n    <tr>\n      <th>515</th>\n      <td>2017-09-10 16:02:00</td>\n      <td>2017-09-11 06:50:00</td>\n      <td>16000</td>\n      <td>150</td>\n      <td>S09W92</td>\n      <td>NaN</td>\n      <td>X8.3</td>\n      <td>2017-09-10 16:00:00</td>\n      <td>NaN</td>\n      <td>360</td>\n      <td>3163</td>\n      <td>PHTX</td>\n      <td>True</td>\n      <td>False</td>\n      <td>0</td>\n    </tr>\n    <tr>\n      <th>516</th>\n      <td>2017-09-12 07:38:00</td>\n      <td>2017-09-12 07:43:00</td>\n      <td>16000</td>\n      <td>13000</td>\n      <td>N08E48</td>\n      <td>12680</td>\n      <td>C3.0</td>\n      <td>2017-09-12 08:03:00</td>\n      <td>124</td>\n      <td>96</td>\n      <td>252</td>\n      <td>PHTX</td>\n      <td>False</td>\n      <td>False</td>\n      <td>0</td>\n    </tr>\n    <tr>\n      <th>517</th>\n      <td>2017-09-17 11:45:00</td>\n      <td>2017-09-17 12:35:00</td>\n      <td>16000</td>\n      <td>900</td>\n      <td>S08E170</td>\n      <td>NaN</td>\n      <td>NaN</td>\n      <td>2017-09-17 12:00:00</td>\n      <td>NaN</td>\n      <td>360</td>\n      <td>1385</td>\n      <td>PHTX</td>\n      <td>True</td>\n      <td>False</td>\n      <td>0</td>\n    </tr>\n  </tbody>\n</table>\n<p>518 rows × 15 columns</p>\n</div>"
     },
     "metadata": {},
     "execution_count": 33
    }
   ],
   "source": [
    "# Step 2, Question 2\n",
    "spaceweather_cor_index = np.full(len(df.index), dtype=np.uint8, fill_value=np.nan)\n",
    "for i in ranking.head(50).index:\n",
    "    nasa_datetime = df.loc[i]['start_datetime']\n",
    "    \n",
    "    dt = solar_flare_df.loc[0]['start_datetime'] - nasa_datetime\n",
    "    closest = abs(dt.total_seconds())\n",
    "    closest_i = 0\n",
    "    for index, row in solar_flare_df.iterrows():\n",
    "        dt = row['start_datetime'] - nasa_datetime\n",
    "        if abs(dt.total_seconds()) < closest:\n",
    "            closest = abs(dt.total_seconds())\n",
    "            closest_i = index\n",
    "        np.put(spaceweather_cor_index,[index],[closest_i])\n",
    "\n",
    "df.insert(column='space_weather_ranking', value=spaceweather_cor_index, loc=14)\n",
    "df\n",
    "\n",
    "# To find the best matching solar flare between the NASA and SpaceWeather data, I am iterating over the top-ranking flares from the NASA dataset and finding the closest match in the SpaceWeather by comparing start times.  This does not appear to be the best method of correlation.\n",
    "\n",
    "\n"
   ]
  },
  {
   "cell_type": "code",
   "execution_count": 35,
   "metadata": {},
   "outputs": [
    {
     "output_type": "execute_result",
     "data": {
      "text/plain": "&lt;matplotlib.axes._subplots.AxesSubplot at 0x7f4605b23d00&gt;"
     },
     "metadata": {},
     "execution_count": 35
    },
    {
     "output_type": "display_data",
     "data": {
      "text/plain": "&lt;Figure size 432x288 with 1 Axes&gt;",
      "image/svg+xml": "<?xml version=\"1.0\" encoding=\"utf-8\" standalone=\"no\"?>\n<!DOCTYPE svg PUBLIC \"-//W3C//DTD SVG 1.1//EN\"\n  \"http://www.w3.org/Graphics/SVG/1.1/DTD/svg11.dtd\">\n<!-- Created with matplotlib (https://matplotlib.org/) -->\n<svg height=\"248.518125pt\" version=\"1.1\" viewBox=\"0 0 381.65 248.518125\" width=\"381.65pt\" xmlns=\"http://www.w3.org/2000/svg\" xmlns:xlink=\"http://www.w3.org/1999/xlink\">\n <defs>\n  <style type=\"text/css\">\n*{stroke-linecap:butt;stroke-linejoin:round;}\n  </style>\n </defs>\n <g id=\"figure_1\">\n  <g id=\"patch_1\">\n   <path d=\"M -0 248.518125 \nL 381.65 248.518125 \nL 381.65 0 \nL -0 0 \nz\n\" style=\"fill:none;\"/>\n  </g>\n  <g id=\"axes_1\">\n   <g id=\"patch_2\">\n    <path d=\"M 39.65 224.64 \nL 374.45 224.64 \nL 374.45 7.2 \nL 39.65 7.2 \nz\n\" style=\"fill:#ffffff;\"/>\n   </g>\n   <g id=\"matplotlib.axis_1\">\n    <g id=\"xtick_1\">\n     <g id=\"line2d_1\">\n      <defs>\n       <path d=\"M 0 0 \nL 0 3.5 \n\" id=\"m774e1aa3a4\" style=\"stroke:#000000;stroke-width:0.8;\"/>\n      </defs>\n      <g>\n       <use style=\"stroke:#000000;stroke-width:0.8;\" x=\"54.868182\" xlink:href=\"#m774e1aa3a4\" y=\"224.64\"/>\n      </g>\n     </g>\n     <g id=\"text_1\">\n      <!-- 0 -->\n      <defs>\n       <path d=\"M 31.78125 66.40625 \nQ 24.171875 66.40625 20.328125 58.90625 \nQ 16.5 51.421875 16.5 36.375 \nQ 16.5 21.390625 20.328125 13.890625 \nQ 24.171875 6.390625 31.78125 6.390625 \nQ 39.453125 6.390625 43.28125 13.890625 \nQ 47.125 21.390625 47.125 36.375 \nQ 47.125 51.421875 43.28125 58.90625 \nQ 39.453125 66.40625 31.78125 66.40625 \nz\nM 31.78125 74.21875 \nQ 44.046875 74.21875 50.515625 64.515625 \nQ 56.984375 54.828125 56.984375 36.375 \nQ 56.984375 17.96875 50.515625 8.265625 \nQ 44.046875 -1.421875 31.78125 -1.421875 \nQ 19.53125 -1.421875 13.0625 8.265625 \nQ 6.59375 17.96875 6.59375 36.375 \nQ 6.59375 54.828125 13.0625 64.515625 \nQ 19.53125 74.21875 31.78125 74.21875 \nz\n\" id=\"DejaVuSans-48\"/>\n      </defs>\n      <g transform=\"translate(51.686932 239.238437)scale(0.1 -0.1)\">\n       <use xlink:href=\"#DejaVuSans-48\"/>\n      </g>\n     </g>\n    </g>\n    <g id=\"xtick_2\">\n     <g id=\"line2d_2\">\n      <g>\n       <use style=\"stroke:#000000;stroke-width:0.8;\" x=\"113.739291\" xlink:href=\"#m774e1aa3a4\" y=\"224.64\"/>\n      </g>\n     </g>\n     <g id=\"text_2\">\n      <!-- 100 -->\n      <defs>\n       <path d=\"M 12.40625 8.296875 \nL 28.515625 8.296875 \nL 28.515625 63.921875 \nL 10.984375 60.40625 \nL 10.984375 69.390625 \nL 28.421875 72.90625 \nL 38.28125 72.90625 \nL 38.28125 8.296875 \nL 54.390625 8.296875 \nL 54.390625 0 \nL 12.40625 0 \nz\n\" id=\"DejaVuSans-49\"/>\n      </defs>\n      <g transform=\"translate(104.195541 239.238437)scale(0.1 -0.1)\">\n       <use xlink:href=\"#DejaVuSans-49\"/>\n       <use x=\"63.623047\" xlink:href=\"#DejaVuSans-48\"/>\n       <use x=\"127.246094\" xlink:href=\"#DejaVuSans-48\"/>\n      </g>\n     </g>\n    </g>\n    <g id=\"xtick_3\">\n     <g id=\"line2d_3\">\n      <g>\n       <use style=\"stroke:#000000;stroke-width:0.8;\" x=\"172.610401\" xlink:href=\"#m774e1aa3a4\" y=\"224.64\"/>\n      </g>\n     </g>\n     <g id=\"text_3\">\n      <!-- 200 -->\n      <defs>\n       <path d=\"M 19.1875 8.296875 \nL 53.609375 8.296875 \nL 53.609375 0 \nL 7.328125 0 \nL 7.328125 8.296875 \nQ 12.9375 14.109375 22.625 23.890625 \nQ 32.328125 33.6875 34.8125 36.53125 \nQ 39.546875 41.84375 41.421875 45.53125 \nQ 43.3125 49.21875 43.3125 52.78125 \nQ 43.3125 58.59375 39.234375 62.25 \nQ 35.15625 65.921875 28.609375 65.921875 \nQ 23.96875 65.921875 18.8125 64.3125 \nQ 13.671875 62.703125 7.8125 59.421875 \nL 7.8125 69.390625 \nQ 13.765625 71.78125 18.9375 73 \nQ 24.125 74.21875 28.421875 74.21875 \nQ 39.75 74.21875 46.484375 68.546875 \nQ 53.21875 62.890625 53.21875 53.421875 \nQ 53.21875 48.921875 51.53125 44.890625 \nQ 49.859375 40.875 45.40625 35.40625 \nQ 44.1875 33.984375 37.640625 27.21875 \nQ 31.109375 20.453125 19.1875 8.296875 \nz\n\" id=\"DejaVuSans-50\"/>\n      </defs>\n      <g transform=\"translate(163.066651 239.238437)scale(0.1 -0.1)\">\n       <use xlink:href=\"#DejaVuSans-50\"/>\n       <use x=\"63.623047\" xlink:href=\"#DejaVuSans-48\"/>\n       <use x=\"127.246094\" xlink:href=\"#DejaVuSans-48\"/>\n      </g>\n     </g>\n    </g>\n    <g id=\"xtick_4\">\n     <g id=\"line2d_4\">\n      <g>\n       <use style=\"stroke:#000000;stroke-width:0.8;\" x=\"231.48151\" xlink:href=\"#m774e1aa3a4\" y=\"224.64\"/>\n      </g>\n     </g>\n     <g id=\"text_4\">\n      <!-- 300 -->\n      <defs>\n       <path d=\"M 40.578125 39.3125 \nQ 47.65625 37.796875 51.625 33 \nQ 55.609375 28.21875 55.609375 21.1875 \nQ 55.609375 10.40625 48.1875 4.484375 \nQ 40.765625 -1.421875 27.09375 -1.421875 \nQ 22.515625 -1.421875 17.65625 -0.515625 \nQ 12.796875 0.390625 7.625 2.203125 \nL 7.625 11.71875 \nQ 11.71875 9.328125 16.59375 8.109375 \nQ 21.484375 6.890625 26.8125 6.890625 \nQ 36.078125 6.890625 40.9375 10.546875 \nQ 45.796875 14.203125 45.796875 21.1875 \nQ 45.796875 27.640625 41.28125 31.265625 \nQ 36.765625 34.90625 28.71875 34.90625 \nL 20.21875 34.90625 \nL 20.21875 43.015625 \nL 29.109375 43.015625 \nQ 36.375 43.015625 40.234375 45.921875 \nQ 44.09375 48.828125 44.09375 54.296875 \nQ 44.09375 59.90625 40.109375 62.90625 \nQ 36.140625 65.921875 28.71875 65.921875 \nQ 24.65625 65.921875 20.015625 65.03125 \nQ 15.375 64.15625 9.8125 62.3125 \nL 9.8125 71.09375 \nQ 15.4375 72.65625 20.34375 73.4375 \nQ 25.25 74.21875 29.59375 74.21875 \nQ 40.828125 74.21875 47.359375 69.109375 \nQ 53.90625 64.015625 53.90625 55.328125 \nQ 53.90625 49.265625 50.4375 45.09375 \nQ 46.96875 40.921875 40.578125 39.3125 \nz\n\" id=\"DejaVuSans-51\"/>\n      </defs>\n      <g transform=\"translate(221.93776 239.238437)scale(0.1 -0.1)\">\n       <use xlink:href=\"#DejaVuSans-51\"/>\n       <use x=\"63.623047\" xlink:href=\"#DejaVuSans-48\"/>\n       <use x=\"127.246094\" xlink:href=\"#DejaVuSans-48\"/>\n      </g>\n     </g>\n    </g>\n    <g id=\"xtick_5\">\n     <g id=\"line2d_5\">\n      <g>\n       <use style=\"stroke:#000000;stroke-width:0.8;\" x=\"290.35262\" xlink:href=\"#m774e1aa3a4\" y=\"224.64\"/>\n      </g>\n     </g>\n     <g id=\"text_5\">\n      <!-- 400 -->\n      <defs>\n       <path d=\"M 37.796875 64.3125 \nL 12.890625 25.390625 \nL 37.796875 25.390625 \nz\nM 35.203125 72.90625 \nL 47.609375 72.90625 \nL 47.609375 25.390625 \nL 58.015625 25.390625 \nL 58.015625 17.1875 \nL 47.609375 17.1875 \nL 47.609375 0 \nL 37.796875 0 \nL 37.796875 17.1875 \nL 4.890625 17.1875 \nL 4.890625 26.703125 \nz\n\" id=\"DejaVuSans-52\"/>\n      </defs>\n      <g transform=\"translate(280.80887 239.238437)scale(0.1 -0.1)\">\n       <use xlink:href=\"#DejaVuSans-52\"/>\n       <use x=\"63.623047\" xlink:href=\"#DejaVuSans-48\"/>\n       <use x=\"127.246094\" xlink:href=\"#DejaVuSans-48\"/>\n      </g>\n     </g>\n    </g>\n    <g id=\"xtick_6\">\n     <g id=\"line2d_6\">\n      <g>\n       <use style=\"stroke:#000000;stroke-width:0.8;\" x=\"349.22373\" xlink:href=\"#m774e1aa3a4\" y=\"224.64\"/>\n      </g>\n     </g>\n     <g id=\"text_6\">\n      <!-- 500 -->\n      <defs>\n       <path d=\"M 10.796875 72.90625 \nL 49.515625 72.90625 \nL 49.515625 64.59375 \nL 19.828125 64.59375 \nL 19.828125 46.734375 \nQ 21.96875 47.46875 24.109375 47.828125 \nQ 26.265625 48.1875 28.421875 48.1875 \nQ 40.625 48.1875 47.75 41.5 \nQ 54.890625 34.8125 54.890625 23.390625 \nQ 54.890625 11.625 47.5625 5.09375 \nQ 40.234375 -1.421875 26.90625 -1.421875 \nQ 22.3125 -1.421875 17.546875 -0.640625 \nQ 12.796875 0.140625 7.71875 1.703125 \nL 7.71875 11.625 \nQ 12.109375 9.234375 16.796875 8.0625 \nQ 21.484375 6.890625 26.703125 6.890625 \nQ 35.15625 6.890625 40.078125 11.328125 \nQ 45.015625 15.765625 45.015625 23.390625 \nQ 45.015625 31 40.078125 35.4375 \nQ 35.15625 39.890625 26.703125 39.890625 \nQ 22.75 39.890625 18.8125 39.015625 \nQ 14.890625 38.140625 10.796875 36.28125 \nz\n\" id=\"DejaVuSans-53\"/>\n      </defs>\n      <g transform=\"translate(339.67998 239.238437)scale(0.1 -0.1)\">\n       <use xlink:href=\"#DejaVuSans-53\"/>\n       <use x=\"63.623047\" xlink:href=\"#DejaVuSans-48\"/>\n       <use x=\"127.246094\" xlink:href=\"#DejaVuSans-48\"/>\n      </g>\n     </g>\n    </g>\n   </g>\n   <g id=\"matplotlib.axis_2\">\n    <g id=\"ytick_1\">\n     <g id=\"line2d_7\">\n      <defs>\n       <path d=\"M 0 0 \nL -3.5 0 \n\" id=\"mddebc54ffe\" style=\"stroke:#000000;stroke-width:0.8;\"/>\n      </defs>\n      <g>\n       <use style=\"stroke:#000000;stroke-width:0.8;\" x=\"39.65\" xlink:href=\"#mddebc54ffe\" y=\"188.191168\"/>\n      </g>\n     </g>\n     <g id=\"text_7\">\n      <!-- 2000 -->\n      <g transform=\"translate(7.2 191.990387)scale(0.1 -0.1)\">\n       <use xlink:href=\"#DejaVuSans-50\"/>\n       <use x=\"63.623047\" xlink:href=\"#DejaVuSans-48\"/>\n       <use x=\"127.246094\" xlink:href=\"#DejaVuSans-48\"/>\n       <use x=\"190.869141\" xlink:href=\"#DejaVuSans-48\"/>\n      </g>\n     </g>\n    </g>\n    <g id=\"ytick_2\">\n     <g id=\"line2d_8\">\n      <g>\n       <use style=\"stroke:#000000;stroke-width:0.8;\" x=\"39.65\" xlink:href=\"#mddebc54ffe\" y=\"149.550082\"/>\n      </g>\n     </g>\n     <g id=\"text_8\">\n      <!-- 2004 -->\n      <g transform=\"translate(7.2 153.349301)scale(0.1 -0.1)\">\n       <use xlink:href=\"#DejaVuSans-50\"/>\n       <use x=\"63.623047\" xlink:href=\"#DejaVuSans-48\"/>\n       <use x=\"127.246094\" xlink:href=\"#DejaVuSans-48\"/>\n       <use x=\"190.869141\" xlink:href=\"#DejaVuSans-52\"/>\n      </g>\n     </g>\n    </g>\n    <g id=\"ytick_3\">\n     <g id=\"line2d_9\">\n      <g>\n       <use style=\"stroke:#000000;stroke-width:0.8;\" x=\"39.65\" xlink:href=\"#mddebc54ffe\" y=\"110.908996\"/>\n      </g>\n     </g>\n     <g id=\"text_9\">\n      <!-- 2008 -->\n      <defs>\n       <path d=\"M 31.78125 34.625 \nQ 24.75 34.625 20.71875 30.859375 \nQ 16.703125 27.09375 16.703125 20.515625 \nQ 16.703125 13.921875 20.71875 10.15625 \nQ 24.75 6.390625 31.78125 6.390625 \nQ 38.8125 6.390625 42.859375 10.171875 \nQ 46.921875 13.96875 46.921875 20.515625 \nQ 46.921875 27.09375 42.890625 30.859375 \nQ 38.875 34.625 31.78125 34.625 \nz\nM 21.921875 38.8125 \nQ 15.578125 40.375 12.03125 44.71875 \nQ 8.5 49.078125 8.5 55.328125 \nQ 8.5 64.0625 14.71875 69.140625 \nQ 20.953125 74.21875 31.78125 74.21875 \nQ 42.671875 74.21875 48.875 69.140625 \nQ 55.078125 64.0625 55.078125 55.328125 \nQ 55.078125 49.078125 51.53125 44.71875 \nQ 48 40.375 41.703125 38.8125 \nQ 48.828125 37.15625 52.796875 32.3125 \nQ 56.78125 27.484375 56.78125 20.515625 \nQ 56.78125 9.90625 50.3125 4.234375 \nQ 43.84375 -1.421875 31.78125 -1.421875 \nQ 19.734375 -1.421875 13.25 4.234375 \nQ 6.78125 9.90625 6.78125 20.515625 \nQ 6.78125 27.484375 10.78125 32.3125 \nQ 14.796875 37.15625 21.921875 38.8125 \nz\nM 18.3125 54.390625 \nQ 18.3125 48.734375 21.84375 45.5625 \nQ 25.390625 42.390625 31.78125 42.390625 \nQ 38.140625 42.390625 41.71875 45.5625 \nQ 45.3125 48.734375 45.3125 54.390625 \nQ 45.3125 60.0625 41.71875 63.234375 \nQ 38.140625 66.40625 31.78125 66.40625 \nQ 25.390625 66.40625 21.84375 63.234375 \nQ 18.3125 60.0625 18.3125 54.390625 \nz\n\" id=\"DejaVuSans-56\"/>\n      </defs>\n      <g transform=\"translate(7.2 114.708215)scale(0.1 -0.1)\">\n       <use xlink:href=\"#DejaVuSans-50\"/>\n       <use x=\"63.623047\" xlink:href=\"#DejaVuSans-48\"/>\n       <use x=\"127.246094\" xlink:href=\"#DejaVuSans-48\"/>\n       <use x=\"190.869141\" xlink:href=\"#DejaVuSans-56\"/>\n      </g>\n     </g>\n    </g>\n    <g id=\"ytick_4\">\n     <g id=\"line2d_10\">\n      <g>\n       <use style=\"stroke:#000000;stroke-width:0.8;\" x=\"39.65\" xlink:href=\"#mddebc54ffe\" y=\"72.26791\"/>\n      </g>\n     </g>\n     <g id=\"text_10\">\n      <!-- 2012 -->\n      <g transform=\"translate(7.2 76.067129)scale(0.1 -0.1)\">\n       <use xlink:href=\"#DejaVuSans-50\"/>\n       <use x=\"63.623047\" xlink:href=\"#DejaVuSans-48\"/>\n       <use x=\"127.246094\" xlink:href=\"#DejaVuSans-49\"/>\n       <use x=\"190.869141\" xlink:href=\"#DejaVuSans-50\"/>\n      </g>\n     </g>\n    </g>\n    <g id=\"ytick_5\">\n     <g id=\"line2d_11\">\n      <g>\n       <use style=\"stroke:#000000;stroke-width:0.8;\" x=\"39.65\" xlink:href=\"#mddebc54ffe\" y=\"33.626824\"/>\n      </g>\n     </g>\n     <g id=\"text_11\">\n      <!-- 2016 -->\n      <defs>\n       <path d=\"M 33.015625 40.375 \nQ 26.375 40.375 22.484375 35.828125 \nQ 18.609375 31.296875 18.609375 23.390625 \nQ 18.609375 15.53125 22.484375 10.953125 \nQ 26.375 6.390625 33.015625 6.390625 \nQ 39.65625 6.390625 43.53125 10.953125 \nQ 47.40625 15.53125 47.40625 23.390625 \nQ 47.40625 31.296875 43.53125 35.828125 \nQ 39.65625 40.375 33.015625 40.375 \nz\nM 52.59375 71.296875 \nL 52.59375 62.3125 \nQ 48.875 64.0625 45.09375 64.984375 \nQ 41.3125 65.921875 37.59375 65.921875 \nQ 27.828125 65.921875 22.671875 59.328125 \nQ 17.53125 52.734375 16.796875 39.40625 \nQ 19.671875 43.65625 24.015625 45.921875 \nQ 28.375 48.1875 33.59375 48.1875 \nQ 44.578125 48.1875 50.953125 41.515625 \nQ 57.328125 34.859375 57.328125 23.390625 \nQ 57.328125 12.15625 50.6875 5.359375 \nQ 44.046875 -1.421875 33.015625 -1.421875 \nQ 20.359375 -1.421875 13.671875 8.265625 \nQ 6.984375 17.96875 6.984375 36.375 \nQ 6.984375 53.65625 15.1875 63.9375 \nQ 23.390625 74.21875 37.203125 74.21875 \nQ 40.921875 74.21875 44.703125 73.484375 \nQ 48.484375 72.75 52.59375 71.296875 \nz\n\" id=\"DejaVuSans-54\"/>\n      </defs>\n      <g transform=\"translate(7.2 37.426043)scale(0.1 -0.1)\">\n       <use xlink:href=\"#DejaVuSans-50\"/>\n       <use x=\"63.623047\" xlink:href=\"#DejaVuSans-48\"/>\n       <use x=\"127.246094\" xlink:href=\"#DejaVuSans-49\"/>\n       <use x=\"190.869141\" xlink:href=\"#DejaVuSans-54\"/>\n      </g>\n     </g>\n    </g>\n   </g>\n   <g id=\"line2d_12\">\n    <path clip-path=\"url(#pa40cd493f9)\" d=\"M 54.868182 214.756364 \nL 55.456893 214.597122 \nL 56.045604 213.681623 \nL 56.634315 213.426965 \nL 57.223026 210.119209 \nL 57.811737 209.053156 \nL 59.577871 208.966005 \nL 60.755293 208.002384 \nL 61.344004 206.84714 \nL 61.932715 205.193437 \nL 62.521426 204.604134 \nL 67.819826 203.83759 \nL 68.408537 203.622146 \nL 68.997248 203.229002 \nL 70.17467 202.980607 \nL 70.763381 202.941376 \nL 71.352092 199.416302 \nL 72.529515 199.322631 \nL 73.706937 199.260551 \nL 74.295648 198.195452 \nL 74.884359 194.840916 \nL 75.47307 194.611696 \nL 76.061781 193.971333 \nL 77.827915 193.573689 \nL 78.416626 193.27541 \nL 79.594048 193.261415 \nL 80.182759 193.113818 \nL 80.77147 193.089261 \nL 81.360181 192.948387 \nL 81.948892 191.503369 \nL 83.126314 191.17157 \nL 83.715025 190.270488 \nL 84.303737 190.175403 \nL 84.892448 189.403992 \nL 85.481159 189.401971 \nL 86.06987 187.722242 \nL 87.247292 187.243912 \nL 90.190848 186.910919 \nL 90.779559 186.562572 \nL 91.36827 186.427502 \nL 91.956981 185.908966 \nL 93.723114 185.318212 \nL 94.311825 184.899263 \nL 95.489247 184.808806 \nL 96.66667 184.602141 \nL 97.255381 184.120321 \nL 100.787647 183.527253 \nL 101.376358 183.115283 \nL 103.142492 183.022162 \nL 103.731203 182.809198 \nL 104.319914 182.280414 \nL 104.908625 181.433606 \nL 106.086047 181.336078 \nL 107.263469 181.10043 \nL 107.85218 180.539688 \nL 109.618314 179.913559 \nL 110.795736 179.817592 \nL 111.384447 179.533437 \nL 116.094136 179.444468 \nL 116.682847 178.602895 \nL 117.271558 177.987382 \nL 117.860269 177.984848 \nL 119.037691 177.779597 \nL 119.626402 177.42484 \nL 120.215113 176.707832 \nL 120.803825 176.653521 \nL 121.392536 176.260101 \nL 122.569958 176.19881 \nL 123.74738 176.079921 \nL 126.102224 175.976883 \nL 127.868358 175.85162 \nL 129.634491 175.677869 \nL 131.400624 175.020021 \nL 132.578046 174.135139 \nL 133.166758 174.129353 \nL 133.755469 172.507094 \nL 134.932891 172.11417 \nL 135.521602 172.010489 \nL 136.110313 171.700785 \nL 137.876446 171.560958 \nL 141.408713 171.066575 \nL 141.997424 171.064555 \nL 142.586135 170.813204 \nL 143.763557 170.71843 \nL 144.352268 170.638809 \nL 146.118402 169.892377 \nL 146.707113 169.890357 \nL 147.884535 169.029958 \nL 149.650668 168.913879 \nL 151.416801 168.155619 \nL 152.005513 168.01614 \nL 153.182935 167.032462 \nL 155.537779 166.84411 \nL 156.12649 166.728857 \nL 156.715201 166.72702 \nL 157.303912 166.224703 \nL 158.481335 166.10282 \nL 159.658757 165.946426 \nL 160.247468 165.69434 \nL 161.42489 165.630882 \nL 162.013601 165.284849 \nL 163.191023 164.981794 \nL 163.779734 163.898788 \nL 170.255557 163.176141 \nL 170.844268 162.903943 \nL 173.199112 162.640102 \nL 173.787823 162.306008 \nL 174.376534 162.175529 \nL 175.553956 161.299592 \nL 176.731379 161.277092 \nL 177.908801 160.590812 \nL 179.086223 160.534701 \nL 179.674934 160.186648 \nL 180.263645 159.523601 \nL 180.852356 159.46345 \nL 181.441067 158.6801 \nL 182.029778 158.491472 \nL 182.61849 157.179981 \nL 183.795912 157.164461 \nL 184.973334 155.316711 \nL 186.739467 155.233178 \nL 187.328178 155.104242 \nL 187.916889 154.81331 \nL 188.5056 154.761699 \nL 189.094312 154.162937 \nL 189.683023 153.108216 \nL 190.271734 151.449774 \nL 190.860445 151.314409 \nL 192.626578 151.219728 \nL 193.804 151.126644 \nL 196.158845 151.062048 \nL 198.513689 150.730249 \nL 199.691111 150.702515 \nL 200.279822 150.331411 \nL 200.868533 149.440248 \nL 202.634667 149.379729 \nL 203.223378 146.996619 \nL 204.989511 146.87402 \nL 205.578222 145.477894 \nL 206.755644 145.44195 \nL 207.344356 144.950139 \nL 207.933067 144.9409 \nL 208.521778 144.133674 \nL 210.287911 143.935127 \nL 210.876622 143.721244 \nL 211.465333 142.804918 \nL 212.054044 142.601596 \nL 212.642755 141.691386 \nL 213.820178 141.476805 \nL 216.763733 141.252361 \nL 217.352444 141.242627 \nL 217.941155 140.636849 \nL 218.529866 140.482603 \nL 219.118577 139.931044 \nL 220.884711 139.778139 \nL 221.473422 139.492809 \nL 224.416977 139.359465 \nL 225.005688 139.037217 \nL 225.5944 136.644741 \nL 226.771822 136.544237 \nL 227.949244 136.269321 \nL 229.715377 134.905943 \nL 232.070222 134.646602 \nL 232.658933 134.45926 \nL 234.425066 134.386618 \nL 235.602488 134.247213 \nL 236.191199 133.705848 \nL 237.368621 133.664523 \nL 238.546044 133.456609 \nL 240.312177 133.325469 \nL 243.255732 133.103229 \nL 243.844443 127.050958 \nL 244.433155 125.287273 \nL 245.021866 124.195175 \nL 245.610577 123.925273 \nL 246.199288 122.050836 \nL 247.37671 122.024204 \nL 247.965421 121.264823 \nL 249.731554 121.229375 \nL 250.320266 121.062144 \nL 250.908977 121.013931 \nL 251.497688 119.920272 \nL 252.086399 116.898416 \nL 252.67511 110.93425 \nL 253.263821 108.666302 \nL 253.852532 107.825133 \nL 254.441243 85.957886 \nL 255.618665 85.511845 \nL 256.207376 81.593995 \nL 257.384799 80.764636 \nL 257.97351 80.729004 \nL 259.150932 80.186445 \nL 259.739643 80.180384 \nL 260.328354 78.513034 \nL 260.917065 77.983883 \nL 262.094487 77.840804 \nL 263.27191 77.761735 \nL 263.860621 77.395461 \nL 264.449332 76.281176 \nL 266.215465 76.093742 \nL 266.804176 75.360166 \nL 267.392887 75.337575 \nL 267.981598 74.926982 \nL 269.159021 74.85379 \nL 269.747732 74.157592 \nL 271.513865 72.555536 \nL 272.691287 72.224931 \nL 273.279998 71.775309 \nL 274.45742 71.559865 \nL 275.046132 70.570805 \nL 277.989687 70.231017 \nL 279.167109 69.994175 \nL 279.75582 69.96938 \nL 280.344531 69.635928 \nL 280.933242 69.488075 \nL 281.521954 68.642645 \nL 282.110665 67.356225 \nL 284.465509 67.144913 \nL 285.642931 66.972172 \nL 286.231642 66.869685 \nL 286.820353 65.818913 \nL 287.997776 64.463617 \nL 288.586487 62.166832 \nL 289.175198 60.649356 \nL 289.763909 59.935066 \nL 290.941331 59.655981 \nL 291.530042 59.094044 \nL 293.296175 59.041717 \nL 293.884887 58.84407 \nL 294.473598 58.06118 \nL 295.65102 57.698213 \nL 296.239731 56.846281 \nL 298.005864 56.003826 \nL 298.594575 55.396175 \nL 300.94942 55.029314 \nL 301.538131 54.788229 \nL 302.715553 54.70286 \nL 305.070397 54.636316 \nL 306.836531 54.059687 \nL 307.425242 53.782364 \nL 308.013953 53.634198 \nL 309.191375 53.586848 \nL 310.368797 53.242285 \nL 311.546219 52.83531 \nL 313.312353 52.75501 \nL 313.901064 52.406938 \nL 314.489775 51.662122 \nL 315.667197 51.478453 \nL 316.255908 51.274066 \nL 316.844619 51.252962 \nL 317.43333 50.730258 \nL 319.199464 50.512242 \nL 320.376886 50.458978 \nL 320.965597 50.089748 \nL 321.554308 49.583573 \nL 323.320441 49.517306 \nL 323.909152 48.688112 \nL 324.497864 48.625003 \nL 325.086575 47.37146 \nL 325.675286 47.306184 \nL 326.263997 46.75997 \nL 329.796263 46.24959 \nL 330.384975 45.998973 \nL 332.151108 45.875841 \nL 333.917241 45.170936 \nL 334.505952 44.690017 \nL 335.094663 43.767078 \nL 336.272085 43.671699 \nL 337.449508 43.558099 \nL 338.038219 41.664322 \nL 339.804352 41.443974 \nL 340.393063 41.101798 \nL 340.981774 40.235228 \nL 342.159196 39.812439 \nL 342.747908 39.052728 \nL 344.514041 38.755 \nL 345.691463 38.642557 \nL 346.280174 38.475547 \nL 346.868885 37.110168 \nL 347.457596 36.398504 \nL 348.046307 36.330748 \nL 348.635018 35.145273 \nL 349.22373 35.013876 \nL 349.812441 34.040355 \nL 351.578574 33.599365 \nL 352.167285 32.678576 \nL 352.755996 32.676243 \nL 353.344707 30.331429 \nL 353.933418 29.799523 \nL 354.522129 27.602819 \nL 355.110841 20.977885 \nL 355.699552 18.814297 \nL 356.288263 18.571688 \nL 356.876974 17.417878 \nL 358.643107 17.220415 \nL 359.231818 17.083636 \nL 359.231818 17.083636 \n\" style=\"fill:none;stroke:#1f77b4;stroke-linecap:square;stroke-width:0.75;\"/>\n   </g>\n   <g id=\"patch_3\">\n    <path d=\"M 39.65 224.64 \nL 39.65 7.2 \n\" style=\"fill:none;stroke:#000000;stroke-linecap:square;stroke-linejoin:miter;stroke-width:0.8;\"/>\n   </g>\n   <g id=\"patch_4\">\n    <path d=\"M 374.45 224.64 \nL 374.45 7.2 \n\" style=\"fill:none;stroke:#000000;stroke-linecap:square;stroke-linejoin:miter;stroke-width:0.8;\"/>\n   </g>\n   <g id=\"patch_5\">\n    <path d=\"M 39.65 224.64 \nL 374.45 224.64 \n\" style=\"fill:none;stroke:#000000;stroke-linecap:square;stroke-linejoin:miter;stroke-width:0.8;\"/>\n   </g>\n   <g id=\"patch_6\">\n    <path d=\"M 39.65 7.2 \nL 374.45 7.2 \n\" style=\"fill:none;stroke:#000000;stroke-linecap:square;stroke-linejoin:miter;stroke-width:0.8;\"/>\n   </g>\n  </g>\n </g>\n <defs>\n  <clipPath id=\"pa40cd493f9\">\n   <rect height=\"217.44\" width=\"334.8\" x=\"39.65\" y=\"7.2\"/>\n  </clipPath>\n </defs>\n</svg>\n",
      "image/png": "[encoded data removed]"
     },
     "metadata": {
      "needs_background": "light"
     }
    }
   ],
   "source": [
    "# Part 2, Question 3\n",
    "\n",
    "df['start_datetime'].plot(linewidth=0.75)\n",
    "\n",
    "# It appears they solar flares do cluster over time.  The axes are wrong, but if you draw a diagonal line from 0,0 to 1,1, and notice the hills, you can identify clusters of activity."
   ]
  },
  {
   "cell_type": "code",
   "execution_count": null,
   "metadata": {},
   "outputs": [],
   "source": []
  }
 ]
}